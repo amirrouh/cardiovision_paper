{
 "cells": [
  {
   "cell_type": "code",
   "execution_count": 1,
   "id": "78bef319-20dd-4a41-bec8-f054888150a5",
   "metadata": {},
   "outputs": [],
   "source": [
    "from pathlib import Path\n",
    "import open3d as o3d\n",
    "import numpy as np\n",
    "import SimpleITK as sitk\n",
    "from tqdm import tqdm\n",
    "import pandas as pd"
   ]
  },
  {
   "cell_type": "code",
   "execution_count": 2,
   "id": "58381e48-1446-4adc-a621-dc044e953da8",
   "metadata": {},
   "outputs": [],
   "source": [
    "outputs=Path(\"/Users/amir/Library/CloudStorage/OneDrive-MassGeneralBrigham/papers/01_cardiovision/outputs/cardiovision_results\")"
   ]
  },
  {
   "cell_type": "code",
   "execution_count": 3,
   "id": "da9f50e2-60aa-43ff-b903-87467405ffe8",
   "metadata": {},
   "outputs": [],
   "source": [
    "cusps = list(outputs.rglob(\"*cusp.ply\"))\n",
    "calcium_file = outputs/\"calcs_corr.stl\""
   ]
  },
  {
   "cell_type": "code",
   "execution_count": 4,
   "id": "97dbae74-77c5-479d-94e2-9dcb247113c3",
   "metadata": {},
   "outputs": [],
   "source": [
    "right_cusp = np.asarray(o3d.io.read_triangle_mesh(str(cusps[0])))\n",
    "left_cusp = np.asarray(o3d.io.read_triangle_mesh(str(cusps[1])))\n",
    "non_cusp = np.asarray(o3d.io.read_triangle_mesh(str(cusps[2])))"
   ]
  },
  {
   "cell_type": "code",
   "execution_count": 5,
   "id": "6dae2e44-7184-4523-bd32-be023010e0ec",
   "metadata": {},
   "outputs": [],
   "source": [
    "calcium = np.asarray(o3d.io.read_triangle_mesh(str(calcium_file)).vertices)\n",
    "landmarks = pd.read_csv(outputs/\"landmarks.csv\", header=None)"
   ]
  },
  {
   "cell_type": "code",
   "execution_count": 18,
   "id": "9b849cfd-5959-4d43-a48c-cf9c05d576fa",
   "metadata": {},
   "outputs": [],
   "source": [
    "calcium_stl=np.asarray(o3d.io.read_triangle_mesh(str(calcium_file)))"
   ]
  },
  {
   "cell_type": "markdown",
   "id": "31736cfc-2f78-485d-81bf-a26693481e9f",
   "metadata": {},
   "source": [
    "## slicing\n",
    "- Left cusp: p1 and p2\n",
    "- right cusp: p1 and p3\n",
    "- non cusp: p2 and p3"
   ]
  },
  {
   "cell_type": "code",
   "execution_count": 6,
   "id": "525180e1-9104-4bb2-a8b3-dde7f25d7aff",
   "metadata": {},
   "outputs": [],
   "source": [
    "center = landmarks.mean().values\n",
    "center[2] = landmarks.iloc[5][2]"
   ]
  },
  {
   "cell_type": "code",
   "execution_count": 7,
   "id": "32a9f026-c498-4d45-86ec-bba0e36756eb",
   "metadata": {},
   "outputs": [],
   "source": [
    "landmarks = np.array(landmarks)"
   ]
  },
  {
   "cell_type": "code",
   "execution_count": 8,
   "id": "b87733d9-5d0c-4ef2-966c-0e6d523f9639",
   "metadata": {},
   "outputs": [],
   "source": [
    "top_landmarks = landmarks[:3,:2]\n",
    "bottom_landmarks = landmarks[3:-1,:2]"
   ]
  },
  {
   "cell_type": "code",
   "execution_count": 9,
   "id": "265cd2b2-3056-4333-88e5-f18c990b7787",
   "metadata": {},
   "outputs": [],
   "source": [
    "top_angels = []\n",
    "for landmark in top_landmarks:\n",
    "    angel = np.rad2deg(np.arctan2(landmark[1]-center[1], landmark[0]-center[0]))\n",
    "    top_angels.append(angel)\n",
    "bottom_angels=[]\n",
    "for landmark in bottom_landmarks:\n",
    "    angel = np.rad2deg(np.arctan2(landmark[1]-center[1], landmark[0]-center[0]))\n",
    "    if angel<0:\n",
    "        angel+=360\n",
    "    bottom_angels.append(angel)"
   ]
  },
  {
   "cell_type": "code",
   "execution_count": 10,
   "id": "7ea036c2-ae1b-42dc-ba2a-102a54b67a7b",
   "metadata": {
    "tags": []
   },
   "outputs": [],
   "source": [
    "calcium_right = []\n",
    "calcium_left = []\n",
    "calcium_none=[]\n",
    "\n",
    "counter = 0\n",
    "for point in calcium:\n",
    "    angel = np.rad2deg(np.arctan2(point[1]-center[1], point[0]-center[0]))\n",
    "    if angel<0:\n",
    "        angel+=360\n",
    "    counter+=1\n",
    "    \n",
    "    targets=[]\n",
    "    \n",
    "    # Left cusp\n",
    "    if bottom_angels[0] < bottom_angels[1]:\n",
    "        if bottom_angels[0] <= angel <= bottom_angels[1]:\n",
    "            targets.append(\"left\")\n",
    "    else:\n",
    "        if bottom_angels[1] <= angel <= bottom_angels[0]:\n",
    "            targets.append(\"left\")\n",
    "            \n",
    "    # None cusp      \n",
    "    if bottom_angels[1] < bottom_angels[2]:\n",
    "        if bottom_angels[1] <= angel <= bottom_angels[2]:\n",
    "            targets.append(\"none\")\n",
    "    else:\n",
    "        if bottom_angels[2] <= angel <= bottom_angels[1]:\n",
    "            targets.append(\"none\")\n",
    "                \n",
    "    # Right cusp\n",
    "    if bottom_angels[0] < bottom_angels[2]:\n",
    "        if bottom_angels[0] <= angel <= bottom_angels[2]:\n",
    "            targets.append(\"right\")\n",
    "    else:\n",
    "        if angel <= bottom_angels[2]:\n",
    "            targets.append(\"right\")\n",
    "            \n",
    "    if \"left\" in targets:\n",
    "        calcium_left.append(point)\n",
    "    elif \"right\" in targets:\n",
    "        calcium_right.append(point)\n",
    "    elif \"none\" in targets:\n",
    "        calcium_none.append(point)"
   ]
  },
  {
   "cell_type": "code",
   "execution_count": 11,
   "id": "84ee1520-40b6-4715-9322-88f9a970664f",
   "metadata": {},
   "outputs": [
    {
     "data": {
      "text/plain": [
       "True"
      ]
     },
     "execution_count": 11,
     "metadata": {},
     "output_type": "execute_result"
    }
   ],
   "source": [
    "calcium_right_pcd = o3d.geometry.PointCloud()\n",
    "calcium_right_pcd.points = o3d.utility.Vector3dVector(calcium_right)\n",
    "o3d.io.write_point_cloud(\"./calcium_right.ply\", calcium_right_pcd)\n",
    "\n",
    "calcium_left_pcd = o3d.geometry.PointCloud()\n",
    "calcium_left_pcd.points = o3d.utility.Vector3dVector(calcium_left)\n",
    "o3d.io.write_point_cloud(\"./calcium_left.ply\", calcium_left_pcd)\n",
    "\n",
    "calcium_none_pcd = o3d.geometry.PointCloud()\n",
    "calcium_none_pcd.points = o3d.utility.Vector3dVector(calcium_none)\n",
    "o3d.io.write_point_cloud(\"./calcium_none.ply\", calcium_none_pcd)"
   ]
  },
  {
   "cell_type": "code",
   "execution_count": 23,
   "id": "ae03a90b-e310-4a65-a7ba-27ab0299c425",
   "metadata": {},
   "outputs": [
    {
     "ename": "ValueError",
     "evalue": "One of max or min must be given",
     "output_type": "error",
     "traceback": [
      "\u001b[0;31m---------------------------------------------------------------------------\u001b[0m",
      "\u001b[0;31mValueError\u001b[0m                                Traceback (most recent call last)",
      "Cell \u001b[0;32mIn[23], line 1\u001b[0m\n\u001b[0;32m----> 1\u001b[0m \u001b[43mcalcium_stl\u001b[49m\u001b[38;5;241;43m.\u001b[39;49m\u001b[43mclip\u001b[49m\u001b[43m(\u001b[49m\u001b[43m)\u001b[49m\n",
      "File \u001b[0;32m~/miniconda3/envs/cardiovision_paper/lib/python3.8/site-packages/numpy/core/_methods.py:128\u001b[0m, in \u001b[0;36m_clip\u001b[0;34m(a, min, max, out, casting, **kwargs)\u001b[0m\n\u001b[1;32m    126\u001b[0m \u001b[38;5;28;01mdef\u001b[39;00m \u001b[38;5;21m_clip\u001b[39m(a, \u001b[38;5;28mmin\u001b[39m\u001b[38;5;241m=\u001b[39m\u001b[38;5;28;01mNone\u001b[39;00m, \u001b[38;5;28mmax\u001b[39m\u001b[38;5;241m=\u001b[39m\u001b[38;5;28;01mNone\u001b[39;00m, out\u001b[38;5;241m=\u001b[39m\u001b[38;5;28;01mNone\u001b[39;00m, \u001b[38;5;241m*\u001b[39m, casting\u001b[38;5;241m=\u001b[39m\u001b[38;5;28;01mNone\u001b[39;00m, \u001b[38;5;241m*\u001b[39m\u001b[38;5;241m*\u001b[39mkwargs):\n\u001b[1;32m    127\u001b[0m     \u001b[38;5;28;01mif\u001b[39;00m \u001b[38;5;28mmin\u001b[39m \u001b[38;5;129;01mis\u001b[39;00m \u001b[38;5;28;01mNone\u001b[39;00m \u001b[38;5;129;01mand\u001b[39;00m \u001b[38;5;28mmax\u001b[39m \u001b[38;5;129;01mis\u001b[39;00m \u001b[38;5;28;01mNone\u001b[39;00m:\n\u001b[0;32m--> 128\u001b[0m         \u001b[38;5;28;01mraise\u001b[39;00m \u001b[38;5;167;01mValueError\u001b[39;00m(\u001b[38;5;124m\"\u001b[39m\u001b[38;5;124mOne of max or min must be given\u001b[39m\u001b[38;5;124m\"\u001b[39m)\n\u001b[1;32m    130\u001b[0m     \u001b[38;5;66;03m# Numpy 1.17.0, 2019-02-24\u001b[39;00m\n\u001b[1;32m    131\u001b[0m     \u001b[38;5;66;03m# This deprecation probably incurs a substantial slowdown for small arrays,\u001b[39;00m\n\u001b[1;32m    132\u001b[0m     \u001b[38;5;66;03m# it will be good to get rid of it.\u001b[39;00m\n\u001b[1;32m    133\u001b[0m     \u001b[38;5;28;01mif\u001b[39;00m \u001b[38;5;129;01mnot\u001b[39;00m _clip_dep_is_byte_swapped(a) \u001b[38;5;129;01mand\u001b[39;00m \u001b[38;5;129;01mnot\u001b[39;00m _clip_dep_is_byte_swapped(out):\n",
      "\u001b[0;31mValueError\u001b[0m: One of max or min must be given"
     ]
    }
   ],
   "source": [
    "calcium_stl.clip()"
   ]
  },
  {
   "cell_type": "code",
   "execution_count": null,
   "id": "59f0f5cc-6538-4895-8c1b-a80655fd171f",
   "metadata": {},
   "outputs": [],
   "source": []
  }
 ],
 "metadata": {
  "kernelspec": {
   "display_name": "Python 3 (ipykernel)",
   "language": "python",
   "name": "python3"
  },
  "language_info": {
   "codemirror_mode": {
    "name": "ipython",
    "version": 3
   },
   "file_extension": ".py",
   "mimetype": "text/x-python",
   "name": "python",
   "nbconvert_exporter": "python",
   "pygments_lexer": "ipython3",
   "version": "3.8.15"
  }
 },
 "nbformat": 4,
 "nbformat_minor": 5
}
